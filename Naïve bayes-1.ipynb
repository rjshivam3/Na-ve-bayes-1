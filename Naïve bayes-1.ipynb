{
 "cells": [
  {
   "cell_type": "markdown",
   "id": "2aab6a29-0548-4e39-8e77-24a0074cc820",
   "metadata": {},
   "source": [
    "## Q1. What is Bayes' theorem?\n"
   ]
  },
  {
   "cell_type": "markdown",
   "id": "9c533189-f284-446b-a396-a76595e1a9f5",
   "metadata": {},
   "source": [
    "Bayes' theorem is a fundamental theorem in probability theory that describes how to update the probabilities of hypotheses when given evidence. It provides a way to revise existing predictions or theories (update probabilities) given new or additional evidence.\n"
   ]
  },
  {
   "cell_type": "markdown",
   "id": "45992e6c-21de-4c32-a993-32167e1661eb",
   "metadata": {},
   "source": [
    "## Q2. What is the formula for Bayes' theorem?\n"
   ]
  },
  {
   "cell_type": "markdown",
   "id": "f7a5ae8d-068c-43c8-8a46-24c0b6774056",
   "metadata": {},
   "source": [
    "The formula for Bayes' theorem is given by:\n",
    "\n",
    "\\[ P(A|B) = \\frac{P(B|A) \\cdot P(A)}{P(B)} \\]\n",
    "\n",
    "where:\n",
    "- \\( P(A|B) \\) is the posterior probability of hypothesis \\( A \\) given the evidence \\( B \\).\n",
    "- \\( P(B|A) \\) is the likelihood of observing the evidence \\( B \\) given that \\( A \\) is true.\n",
    "- \\( P(A) \\) is the prior probability of hypothesis \\( A \\).\n",
    "- \\( P(B) \\) is the marginal likelihood of observing the evidence \\( B \\).\n"
   ]
  },
  {
   "cell_type": "markdown",
   "id": "3ba88c12-7799-4653-afd5-2d95d0515788",
   "metadata": {},
   "source": [
    "## Q3. How is Bayes' theorem used in practice?\n"
   ]
  },
  {
   "cell_type": "markdown",
   "id": "bc2023a8-2ae8-4fab-9e4c-9b5acb11b048",
   "metadata": {},
   "source": [
    "Bayes' theorem is used in practice for various applications including:\n",
    "- Medical diagnosis: Updating the probability of a disease given the test results.\n",
    "- Spam filtering: Determining the probability that an email is spam based on its content.\n",
    "- Machine learning: Used in algorithms like Naive Bayes for classification tasks.\n",
    "- Risk assessment: Updating risk probabilities given new evidence or data.\n"
   ]
  },
  {
   "cell_type": "markdown",
   "id": "8773ff8a-7a20-4cc9-afa8-b0be159fcc9b",
   "metadata": {},
   "source": [
    "## Q4. What is the relationship between Bayes' theorem and conditional probability?\n"
   ]
  },
  {
   "cell_type": "markdown",
   "id": "9b2904d9-c553-48ac-b85e-6696109ec7f2",
   "metadata": {},
   "source": [
    "Bayes' theorem is fundamentally based on the concept of conditional probability. Conditional probability measures the probability of an event given that another event has occurred. Bayes' theorem uses conditional probability to update the probability of a hypothesis based on new evidence. Specifically, it inverts conditional probabilities to relate the probability of the evidence given the hypothesis to the probability of the hypothesis given the evidence.\n"
   ]
  },
  {
   "cell_type": "markdown",
   "id": "ce293476-4481-4e50-8191-f0ad09916a24",
   "metadata": {},
   "source": [
    "## Q5. How do you choose which type of Naive Bayes classifier to use for any given problem?\n"
   ]
  },
  {
   "cell_type": "markdown",
   "id": "442a5631-c4d0-406e-b131-32f0d346c12b",
   "metadata": {},
   "source": [
    "The choice of Naive Bayes classifier depends on the nature of the features in your dataset:\n",
    "- **Gaussian Naive Bayes**: Use when the features are continuous and assumed to follow a normal (Gaussian) distribution.\n",
    "- **Multinomial Naive Bayes**: Use when the features are discrete and represent counts or frequencies (e.g., word counts in text classification).\n",
    "- **Bernoulli Naive Bayes**: Use when the features are binary or boolean (e.g., presence or absence of a feature).\n"
   ]
  },
  {
   "cell_type": "markdown",
   "id": "2ca2111f-5ed8-42b2-84b2-d71019edc477",
   "metadata": {},
   "source": [
    "## Q6. Assignment:\n",
    "You have a dataset with two features, X1 and X2, and two possible classes, A and B. You want to use Naive Bayes to classify a new instance with features X1 = 3 and X2 = 4. The following table shows the frequency of each feature value for each class:\n",
    "\n",
    "| Class | X1=1 | X1=2 | X1=3 | X2=1 | X2=2 | X2=3 | X2=4 |\n",
    "|-------|------|------|------|------|------|------|------|\n",
    "| A     | 3    | 3    | 4    | 4    | 3    | 3    | 3    |\n",
    "| B     | 2    | 2    | 1    | 2    | 2    | 2    | 3    |\n",
    "\n",
    "Assuming equal prior probabilities for each class, which class would Naive Bayes predict the new instance to belong to?\n"
   ]
  },
  {
   "cell_type": "code",
   "execution_count": 1,
   "id": "a1ebc427-6a61-4683-9843-cc2b54fde336",
   "metadata": {},
   "outputs": [
    {
     "data": {
      "text/plain": [
       "'A'"
      ]
     },
     "execution_count": 1,
     "metadata": {},
     "output_type": "execute_result"
    }
   ],
   "source": [
    "import numpy as np\n",
    "\n",
    "freq_A_X1 = {1: 3, 2: 3, 3: 4}\n",
    "freq_B_X1 = {1: 2, 2: 2, 3: 1}\n",
    "freq_A_X2 = {1: 4, 2: 3, 3: 3, 4: 3}\n",
    "freq_B_X2 = {1: 2, 2: 2, 3: 2, 4: 3}\n",
    "\n",
    "P_A = 0.5\n",
    "P_B = 0.5\n",
    "\n",
    "P_X1_3_given_A = freq_A_X1[3] / sum(freq_A_X1.values())\n",
    "P_X2_4_given_A = freq_A_X2[4] / sum(freq_A_X2.values())\n",
    "P_X1_3_given_B = freq_B_X1[3] / sum(freq_B_X1.values())\n",
    "P_X2_4_given_B = freq_B_X2[4] / sum(freq_B_X2.values())\n",
    "\n",
    "P_A_given_X1_3_X2_4 = P_X1_3_given_A * P_X2_4_given_A * P_A\n",
    "P_B_given_X1_3_X2_4 = P_X1_3_given_B * P_X2_4_given_B * P_B\n",
    "\n",
    "P_sum = P_A_given_X1_3_X2_4 + P_B_given_X1_3_X2_4\n",
    "P_A_given_X1_3_X2_4 /= P_sum\n",
    "P_B_given_X1_3_X2_4 /= P_sum\n",
    "\n",
    "predicted_class = 'A' if P_A_given_X1_3_X2_4 > P_B_given_X1_3_X2_4 else 'B'\n",
    "predicted_class\n"
   ]
  },
  {
   "cell_type": "markdown",
   "id": "3d2fdd13-0019-479a-b97f-7ebdd60717f2",
   "metadata": {},
   "source": [
    "Based on the calculations, the Naive Bayes classifier would predict the new instance with features X1 = 3 and X2 = 4 to belong to class A or B depending on the computed probabilities.\n"
   ]
  },
  {
   "cell_type": "code",
   "execution_count": null,
   "id": "d8668c33-cbbc-4b0f-88b0-70af1e7df298",
   "metadata": {},
   "outputs": [],
   "source": []
  }
 ],
 "metadata": {
  "kernelspec": {
   "display_name": "Python 3 (ipykernel)",
   "language": "python",
   "name": "python3"
  },
  "language_info": {
   "codemirror_mode": {
    "name": "ipython",
    "version": 3
   },
   "file_extension": ".py",
   "mimetype": "text/x-python",
   "name": "python",
   "nbconvert_exporter": "python",
   "pygments_lexer": "ipython3",
   "version": "3.10.8"
  }
 },
 "nbformat": 4,
 "nbformat_minor": 5
}
